{
 "cells": [
  {
   "cell_type": "markdown",
   "metadata": {},
   "source": [
    "# Question 1"
   ]
  },
  {
   "cell_type": "raw",
   "metadata": {},
   "source": [
    "Question:\n",
    "The random variable X and Y have the following joint probability density 𝑓𝑋𝑌(𝑥,𝑦)={𝑒−𝑥−𝑦 0<𝑥<∞,0<𝑦<∞0 𝑒𝑙𝑠𝑒𝑤ℎ𝑒𝑟𝑒\n",
    "What is 𝑃(𝑋<𝑌) ?"
   ]
  },
  {
   "cell_type": "raw",
   "metadata": {},
   "source": [
    "As, Its a completely Mathematical Problem and Its not Possible to solve here. Hence i have solved it on a white paper, \n",
    "and attaching the scanned copy of it in pdf format."
   ]
  },
  {
   "cell_type": "markdown",
   "metadata": {},
   "source": [
    "# Question 2"
   ]
  },
  {
   "cell_type": "raw",
   "metadata": {},
   "source": [
    "Question:\n",
    "Counting the pairs with k different from an integer list. \n",
    "eg: list = [1, 3,5] and k = 2 \n",
    "expected: we will have 2 pairs: {(1,3), (3,5)} \n",
    "Note: we also consider the negative numbers. You may only use Python"
   ]
  },
  {
   "cell_type": "code",
   "execution_count": 1,
   "metadata": {},
   "outputs": [
    {
     "name": "stdout",
     "output_type": "stream",
     "text": [
      "Output result in list format: [(1, 3), (3, 5)]\n",
      "\n",
      "Output result in set format: {(1, 3), (3, 5)}\n"
     ]
    }
   ],
   "source": [
    "def combinations(iterable, k):\n",
    "    n = len(iterable)\n",
    "    combo_list = []\n",
    "    if k > n:\n",
    "        return \"Please enter a value which is greater than size of a list\"\n",
    "    \n",
    "    for i in range(0, len(iterable) - 1):\n",
    "        if len(iterable[i:i+k]) >= k:\n",
    "            temp_tuple = tuple(iterable[i:i+k])\n",
    "            combo_list.append(temp_tuple)\n",
    "    return combo_list\n",
    "    \n",
    "\n",
    "lis = [1, 3, 5]\n",
    "# lis = [i for i in range(0, 10)]\n",
    "k = 2\n",
    "output_result = combinations(lis, k)\n",
    "print(f'Output result in list format: {output_result}')\n",
    "print()\n",
    "print(f'Output result in set format: {set(output_result)}')\n"
   ]
  },
  {
   "cell_type": "markdown",
   "metadata": {},
   "source": [
    "# Question 3"
   ]
  },
  {
   "cell_type": "raw",
   "metadata": {},
   "source": [
    "Question:\n",
    "Return the list of indices. The indices is a sublist points to the same person. The same persons means they have the same name or email or phone. You may only use Python. eg:\n",
    "data = [\n",
    "(\"username1\",\"phone_number1\", \"email1\"),\n",
    "(\"usernameX\",\"phone_number1\", \"emailX\"),\n",
    "(\"usernameZ\",\"phone_numberZ\", \"email1Z\"),\n",
    "(\"usernameY\",\"phone_numberY\", \"emailX\"),\n",
    "]\n",
    "expected: [[0,1,3][2]]"
   ]
  },
  {
   "cell_type": "code",
   "execution_count": 2,
   "metadata": {},
   "outputs": [],
   "source": [
    "data = [\n",
    "(\"username1\",\"phone_number1\", \"email1\"),\n",
    "(\"usernameX\",\"phone_number1\", \"emailX\"),\n",
    "(\"usernameZ\",\"phone_numberZ\", \"email1Z\"),\n",
    "(\"usernameY\",\"phone_numberY\", \"emailX\"),\n",
    "]"
   ]
  },
  {
   "cell_type": "code",
   "execution_count": 3,
   "metadata": {},
   "outputs": [
    {
     "name": "stdout",
     "output_type": "stream",
     "text": [
      "List of Indices are: [[0, 1, 3], [2]]\n"
     ]
    }
   ],
   "source": [
    "def compare_indices(ind_1,ind_2):\n",
    "    if(ind_1[0] == ind_2[0] or ind_1[1] == ind_2[1] or ind_1[2] == ind_2[2]):\n",
    "        return True\n",
    "    else:\n",
    "        return False\n",
    "    \n",
    "combos = []\n",
    "for i in range(len(data)):\n",
    "    temp = {i}\n",
    "    for j  in range(len(data)):\n",
    "        if(compare_indices(data[i],data[j])):\n",
    "            temp.add(j)\n",
    "    combos.append(temp)\n",
    "\n",
    "indices_list = []\n",
    "for i in range(len(combos)-1):\n",
    "    if (set(combos[i]).issubset(set(combos[i+1]))):\n",
    "        pass\n",
    "    else:\n",
    "        indices_list.append(list(combos[i]))\n",
    "\n",
    "print(f'List of Indices are: {indices_list}')"
   ]
  },
  {
   "cell_type": "markdown",
   "metadata": {},
   "source": [
    "# Question 4"
   ]
  },
  {
   "cell_type": "raw",
   "metadata": {},
   "source": [
    "It’s 2008 all over again and Redis have not been invented yet. Your task, should you choose to accept is to design a caching library from scratch for the entire world to use (as redis would have become).\n",
    "What is expected of you is to come up with a first deliverable after about 2 hours of work. You are free to do any necessary research on the internet as with real task.\n",
    "We do not expect you to complete all the features but at the bare minimum, it should have basic caching functionalities.\n",
    "Write the code with the intention of announcing your pet project on twitter, Hackernews or reddit to encourage contributors (as redis author did way back in 2009 https://redislabs.com/blog/redis-turns-10/).\n",
    "Deliverables:\n",
    "• Git bundle of your solution\n",
    "• Documentation of design considerations & trade-offs taken\n",
    "Constraints:\n",
    "You may only use Python"
   ]
  },
  {
   "cell_type": "markdown",
   "metadata": {},
   "source": [
    "As, Its a bit complex program due to this i have written it on a different .py file."
   ]
  },
  {
   "cell_type": "code",
   "execution_count": null,
   "metadata": {},
   "outputs": [],
   "source": []
  },
  {
   "cell_type": "markdown",
   "metadata": {},
   "source": [
    "Note: None of the External Libraries are required to execute all above programs, hence there is no requirements.txt file "
   ]
  }
 ],
 "metadata": {
  "kernelspec": {
   "display_name": "Python 3",
   "language": "python",
   "name": "python3"
  },
  "language_info": {
   "codemirror_mode": {
    "name": "ipython",
    "version": 3
   },
   "file_extension": ".py",
   "mimetype": "text/x-python",
   "name": "python",
   "nbconvert_exporter": "python",
   "pygments_lexer": "ipython3",
   "version": "3.6.6"
  }
 },
 "nbformat": 4,
 "nbformat_minor": 4
}
